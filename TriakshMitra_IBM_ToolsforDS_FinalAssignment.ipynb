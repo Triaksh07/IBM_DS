{
 "cells": [
  {
   "cell_type": "markdown",
   "metadata": {},
   "source": [
    "<center>\n",
    "    <img src=\"https://cf-courses-data.s3.us.cloud-object-storage.appdomain.cloud/IBMDeveloperSkillsNetwork-DS0105EN-SkillsNetwork/labs/Module2/images/SN_web_lightmode.png\" width=\"300\" alt=\"cognitiveclass.ai logo\">\n",
    "</center>\n"
   ]
  },
  {
   "cell_type": "markdown",
   "metadata": {},
   "source": [
    "#### Add your code below following the instructions given in the course\n"
   ]
  },
  {
   "cell_type": "markdown",
   "metadata": {},
   "source": [
    "The name of this Notebook is:\n",
    "# TriakshMitra_IBM_ToolsforDS_FinalAssignment\n",
    "\n",
    "_Exercise 2_"
   ]
  },
  {
   "cell_type": "markdown",
   "metadata": {},
   "source": [
    "## Introduction\n",
    "\n",
    "This notebook has been created by Triaksh Mitra as an submission to the Final Assignment in the Coursera Tools for Data Science course offered by IBM in step of the IBM Data Scientist Certification.\n",
    "\n",
    "_Exercise 3_"
   ]
  },
  {
   "cell_type": "markdown",
   "metadata": {},
   "source": [
    "## Data Science Languages\n",
    "\n",
    "Popular Data Science Languages include:\n",
    "\n",
    "1. Python\n",
    "2. R\n",
    "3. Java\n",
    "4. Spark\n",
    "5. Julia\n",
    "6. SQL\n",
    "\n",
    "_Exercise 4_"
   ]
  },
  {
   "cell_type": "markdown",
   "metadata": {},
   "source": [
    "## Data Science Libraries\n",
    "\n",
    "Popular Data Science Libraries include:\n",
    "\n",
    "1. Tensorflow\n",
    "2. SKLearn\n",
    "3. Pandas\n",
    "4. Numpy\n",
    "\n",
    "_Exercise 5_"
   ]
  },
  {
   "cell_type": "markdown",
   "metadata": {},
   "source": [
    "## Data Science Tools\n",
    "\n",
    "Popular Data Science Tools and their broad function are listed below:\n",
    "\n",
    "| Tool Name | Function |\n",
    "|-----------|----------|\n",
    "| Tableau | Data Visualization |\n",
    "| MS PowerBI | Data Visualization |\n",
    "| MongoDB | NoSQL Database |\n",
    "| IBM DB2 | SQL Database |\n",
    "| Apache Hadoop | Big Data Framework |\n",
    "| Apache Spark | Big Data Framework |\n",
    "| Tensorflow | ML Framework |\n",
    "\n",
    "_Exercise 6_"
   ]
  },
  {
   "cell_type": "markdown",
   "metadata": {},
   "source": [
    "## Arithmetic Expression Examples\n",
    "\n",
    "Arithmetic Expressions can vary in nature, for example addition/subtraction or multiplication or even more complex functions. It is very easily implemented in Jupyter Notebooks, simply by writing the expression in any code cell and running it will give you the answer.\n",
    "\n",
    "2*2 is a basic example of multiplication\n",
    "\n",
    "3 + 6 is a simple example of addition\n",
    "\n",
    "2**4 is an example of exponentiation\n",
    "\n",
    "_Exercise 7_"
   ]
  },
  {
   "cell_type": "code",
   "execution_count": 7,
   "metadata": {},
   "outputs": [
    {
     "data": {
      "text/plain": [
       "14"
      ]
     },
     "execution_count": 7,
     "metadata": {},
     "output_type": "execute_result"
    }
   ],
   "source": [
    "# Multiplying and adding numbers:\n",
    "\n",
    "2*(4 + 3)\n",
    "\n",
    "# Exercise 8"
   ]
  },
  {
   "cell_type": "code",
   "execution_count": 8,
   "metadata": {},
   "outputs": [
    {
     "data": {
      "text/plain": [
       "2.1166666666666667"
      ]
     },
     "execution_count": 8,
     "metadata": {},
     "output_type": "execute_result"
    }
   ],
   "source": [
    "# Converting minutes to hours:\n",
    "\n",
    "time_in_min = 127\n",
    "time_in_hrs = time_in_min/60\n",
    "time_in_hrs\n",
    "\n",
    "# Exercise 9"
   ]
  },
  {
   "cell_type": "markdown",
   "metadata": {},
   "source": [
    "## Objectives\n",
    "\n",
    "The Objectives of this exercise are to gauge what the student has learned about the basics of the various tools used in Data Science.\n",
    "\n",
    "_Exercise 10_"
   ]
  },
  {
   "cell_type": "markdown",
   "metadata": {},
   "source": [
    "## Author: Triaksh Mitra\n",
    "\n",
    "_Exercise 11_"
   ]
  },
  {
   "cell_type": "code",
   "execution_count": null,
   "metadata": {},
   "outputs": [],
   "source": []
  }
 ],
 "metadata": {
  "kernelspec": {
   "display_name": "Python 3 (ipykernel)",
   "language": "python",
   "name": "python3"
  },
  "language_info": {
   "codemirror_mode": {
    "name": "ipython",
    "version": 3
   },
   "file_extension": ".py",
   "mimetype": "text/x-python",
   "name": "python",
   "nbconvert_exporter": "python",
   "pygments_lexer": "ipython3",
   "version": "3.12.8"
  }
 },
 "nbformat": 4,
 "nbformat_minor": 4
}
